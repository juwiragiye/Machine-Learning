{
 "cells": [
  {
   "cell_type": "code",
   "execution_count": 1,
   "metadata": {},
   "outputs": [],
   "source": [
    "import pandas as pd\n"
   ]
  },
  {
   "cell_type": "markdown",
   "metadata": {},
   "source": [
    "## Initialization of a Pandas series"
   ]
  },
  {
   "cell_type": "code",
   "execution_count": 9,
   "metadata": {},
   "outputs": [
    {
     "name": "stdout",
     "output_type": "stream",
     "text": [
      "a    1\n",
      "c    2\n",
      "c    3\n",
      "d    4\n",
      "dtype: int64\n"
     ]
    },
    {
     "ename": "TypeError",
     "evalue": "Series.name must be a hashable type",
     "output_type": "error",
     "traceback": [
      "\u001b[0;31m---------------------------------------------------------------------------\u001b[0m",
      "\u001b[0;31mTypeError\u001b[0m                                 Traceback (most recent call last)",
      "\u001b[1;32m/Users/janvier/code/github/gl-ml/intro_pandas.ipynb Cell 3'\u001b[0m in \u001b[0;36m<module>\u001b[0;34m\u001b[0m\n\u001b[1;32m      <a href='vscode-notebook-cell:/Users/janvier/code/github/gl-ml/intro_pandas.ipynb#ch0000003?line=2'>3</a>\u001b[0m \u001b[39mprint\u001b[39m(s1)\n\u001b[1;32m      <a href='vscode-notebook-cell:/Users/janvier/code/github/gl-ml/intro_pandas.ipynb#ch0000003?line=4'>5</a>\u001b[0m \u001b[39m# Series a dictionary\u001b[39;00m\n\u001b[0;32m----> <a href='vscode-notebook-cell:/Users/janvier/code/github/gl-ml/intro_pandas.ipynb#ch0000003?line=5'>6</a>\u001b[0m s2 \u001b[39m=\u001b[39m pd\u001b[39m.\u001b[39;49mSeries({\u001b[39m\"\u001b[39;49m\u001b[39mname\u001b[39;49m\u001b[39m\"\u001b[39;49m: \u001b[39m\"\u001b[39;49m\u001b[39mJanvier\u001b[39;49m\u001b[39m\"\u001b[39;49m, \u001b[39m\"\u001b[39;49m\u001b[39mage\u001b[39;49m\u001b[39m\"\u001b[39;49m: \u001b[39m5000\u001b[39;49m}, {\u001b[39m\"\u001b[39;49m\u001b[39mname\u001b[39;49m\u001b[39m\"\u001b[39;49m: \u001b[39m\"\u001b[39;49m\u001b[39mJosue\u001b[39;49m\u001b[39m\"\u001b[39;49m, \u001b[39m\"\u001b[39;49m\u001b[39mage\u001b[39;49m\u001b[39m\"\u001b[39;49m: \u001b[39m5000\u001b[39;49m}, {\u001b[39m\"\u001b[39;49m\u001b[39mname\u001b[39;49m\u001b[39m\"\u001b[39;49m: \u001b[39m\"\u001b[39;49m\u001b[39mJuma\u001b[39;49m\u001b[39m\"\u001b[39;49m, \u001b[39m\"\u001b[39;49m\u001b[39mage\u001b[39;49m\u001b[39m\"\u001b[39;49m: \u001b[39m5000\u001b[39;49m}, {\u001b[39m\"\u001b[39;49m\u001b[39mname\u001b[39;49m\u001b[39m\"\u001b[39;49m: \u001b[39m\"\u001b[39;49m\u001b[39mJoe\u001b[39;49m\u001b[39m\"\u001b[39;49m, \u001b[39m\"\u001b[39;49m\u001b[39mage\u001b[39;49m\u001b[39m\"\u001b[39;49m: \u001b[39m5000\u001b[39;49m})\n\u001b[1;32m      <a href='vscode-notebook-cell:/Users/janvier/code/github/gl-ml/intro_pandas.ipynb#ch0000003?line=6'>7</a>\u001b[0m \u001b[39mprint\u001b[39m(s2)\n",
      "File \u001b[0;32m~/opt/miniconda3/envs/pd-np/lib/python3.10/site-packages/pandas/core/series.py:365\u001b[0m, in \u001b[0;36mSeries.__init__\u001b[0;34m(self, data, index, dtype, name, copy, fastpath)\u001b[0m\n\u001b[1;32m    <a href='file:///Users/janvier/opt/miniconda3/envs/pd-np/lib/python3.10/site-packages/pandas/core/series.py?line=360'>361</a>\u001b[0m         index \u001b[39m=\u001b[39m data\u001b[39m.\u001b[39mindex\n\u001b[1;32m    <a href='file:///Users/janvier/opt/miniconda3/envs/pd-np/lib/python3.10/site-packages/pandas/core/series.py?line=362'>363</a>\u001b[0m \u001b[39melse\u001b[39;00m:\n\u001b[0;32m--> <a href='file:///Users/janvier/opt/miniconda3/envs/pd-np/lib/python3.10/site-packages/pandas/core/series.py?line=364'>365</a>\u001b[0m     name \u001b[39m=\u001b[39m ibase\u001b[39m.\u001b[39;49mmaybe_extract_name(name, data, \u001b[39mtype\u001b[39;49m(\u001b[39mself\u001b[39;49m))\n\u001b[1;32m    <a href='file:///Users/janvier/opt/miniconda3/envs/pd-np/lib/python3.10/site-packages/pandas/core/series.py?line=366'>367</a>\u001b[0m     \u001b[39mif\u001b[39;00m is_empty_data(data) \u001b[39mand\u001b[39;00m dtype \u001b[39mis\u001b[39;00m \u001b[39mNone\u001b[39;00m:\n\u001b[1;32m    <a href='file:///Users/janvier/opt/miniconda3/envs/pd-np/lib/python3.10/site-packages/pandas/core/series.py?line=367'>368</a>\u001b[0m         \u001b[39m# gh-17261\u001b[39;00m\n\u001b[1;32m    <a href='file:///Users/janvier/opt/miniconda3/envs/pd-np/lib/python3.10/site-packages/pandas/core/series.py?line=368'>369</a>\u001b[0m         warnings\u001b[39m.\u001b[39mwarn(\n\u001b[1;32m    <a href='file:///Users/janvier/opt/miniconda3/envs/pd-np/lib/python3.10/site-packages/pandas/core/series.py?line=369'>370</a>\u001b[0m             \u001b[39m\"\u001b[39m\u001b[39mThe default dtype for empty Series will be \u001b[39m\u001b[39m'\u001b[39m\u001b[39mobject\u001b[39m\u001b[39m'\u001b[39m\u001b[39m instead \u001b[39m\u001b[39m\"\u001b[39m\n\u001b[1;32m    <a href='file:///Users/janvier/opt/miniconda3/envs/pd-np/lib/python3.10/site-packages/pandas/core/series.py?line=370'>371</a>\u001b[0m             \u001b[39m\"\u001b[39m\u001b[39mof \u001b[39m\u001b[39m'\u001b[39m\u001b[39mfloat64\u001b[39m\u001b[39m'\u001b[39m\u001b[39m in a future version. Specify a dtype explicitly \u001b[39m\u001b[39m\"\u001b[39m\n\u001b[0;32m   (...)\u001b[0m\n\u001b[1;32m    <a href='file:///Users/janvier/opt/miniconda3/envs/pd-np/lib/python3.10/site-packages/pandas/core/series.py?line=373'>374</a>\u001b[0m             stacklevel\u001b[39m=\u001b[39mfind_stack_level(),\n\u001b[1;32m    <a href='file:///Users/janvier/opt/miniconda3/envs/pd-np/lib/python3.10/site-packages/pandas/core/series.py?line=374'>375</a>\u001b[0m         )\n",
      "File \u001b[0;32m~/opt/miniconda3/envs/pd-np/lib/python3.10/site-packages/pandas/core/indexes/base.py:7093\u001b[0m, in \u001b[0;36mmaybe_extract_name\u001b[0;34m(name, obj, cls)\u001b[0m\n\u001b[1;32m   <a href='file:///Users/janvier/opt/miniconda3/envs/pd-np/lib/python3.10/site-packages/pandas/core/indexes/base.py?line=7090'>7091</a>\u001b[0m \u001b[39m# GH#29069\u001b[39;00m\n\u001b[1;32m   <a href='file:///Users/janvier/opt/miniconda3/envs/pd-np/lib/python3.10/site-packages/pandas/core/indexes/base.py?line=7091'>7092</a>\u001b[0m \u001b[39mif\u001b[39;00m \u001b[39mnot\u001b[39;00m is_hashable(name):\n\u001b[0;32m-> <a href='file:///Users/janvier/opt/miniconda3/envs/pd-np/lib/python3.10/site-packages/pandas/core/indexes/base.py?line=7092'>7093</a>\u001b[0m     \u001b[39mraise\u001b[39;00m \u001b[39mTypeError\u001b[39;00m(\u001b[39mf\u001b[39m\u001b[39m\"\u001b[39m\u001b[39m{\u001b[39;00m\u001b[39mcls\u001b[39m\u001b[39m.\u001b[39m\u001b[39m__name__\u001b[39m\u001b[39m}\u001b[39;00m\u001b[39m.name must be a hashable type\u001b[39m\u001b[39m\"\u001b[39m)\n\u001b[1;32m   <a href='file:///Users/janvier/opt/miniconda3/envs/pd-np/lib/python3.10/site-packages/pandas/core/indexes/base.py?line=7094'>7095</a>\u001b[0m \u001b[39mreturn\u001b[39;00m name\n",
      "\u001b[0;31mTypeError\u001b[0m: Series.name must be a hashable type"
     ]
    }
   ],
   "source": [
    "# Series as list\n",
    "s1 = pd.Series([1, 2, 3, 4], index=[\"a\", \"c\", \"c\", \"d\"]) # index is optional\n",
    "print(s1)\n",
    "\n",
    "# Series a dictionary\n",
    "s2 = pd.Series({\"name\": \"Janvier\", \"age\": 5000})\n",
    "print(s2)\n"
   ]
  },
  {
   "cell_type": "markdown",
   "metadata": {},
   "source": [
    "## Pandas Series Indexing"
   ]
  },
  {
   "cell_type": "code",
   "execution_count": 14,
   "metadata": {},
   "outputs": [
    {
     "name": "stdout",
     "output_type": "stream",
     "text": [
      "4\n",
      "2\n",
      "c    2\n",
      "c    3\n",
      "d    4\n",
      "dtype: int64\n",
      "Janvier\n",
      "name    Janvier\n",
      "dtype: object\n",
      "a    1\n",
      "c    2\n",
      "c    3\n",
      "dtype: int64\n"
     ]
    }
   ],
   "source": [
    "print(s1[3])\n",
    "print(s1[-3])\n",
    "print(s1[1:])\n",
    "print(s2[0])\n",
    "print(s2[:-1])\n",
    "print(s1[:-1])"
   ]
  },
  {
   "cell_type": "markdown",
   "metadata": {},
   "source": [
    "## Operations on Pandas Series"
   ]
  },
  {
   "cell_type": "markdown",
   "metadata": {},
   "source": [
    "##"
   ]
  },
  {
   "cell_type": "code",
   "execution_count": 18,
   "metadata": {},
   "outputs": [
    {
     "name": "stdout",
     "output_type": "stream",
     "text": [
      "a    1\n",
      "c    2\n",
      "c    3\n",
      "d    4\n",
      "dtype: int64\n",
      "a    3\n",
      "c    4\n",
      "c    5\n",
      "d    6\n",
      "dtype: int64\n",
      "a     6\n",
      "c     8\n",
      "c    10\n",
      "d    12\n",
      "dtype: int64\n",
      "a    3.0\n",
      "c    4.0\n",
      "c    5.0\n",
      "d    6.0\n",
      "dtype: float64\n",
      "a    1.0\n",
      "c    2.0\n",
      "c    3.0\n",
      "d    4.0\n",
      "dtype: float64\n"
     ]
    }
   ],
   "source": [
    "# Addition, mult, div, diff\n",
    "print(s1)\n",
    "s3 = s1 + 2\n",
    "print(s3)\n",
    "\n",
    "s4 = s3  * 2\n",
    "print(s4)\n",
    "\n",
    "s5 = s4 / 2\n",
    "print(s5)\n",
    "\n",
    "s6 = s5 - 2\n",
    "print(s6)\n"
   ]
  },
  {
   "cell_type": "markdown",
   "metadata": {},
   "source": [
    "## Pandas Dataframes: Initialization"
   ]
  },
  {
   "cell_type": "code",
   "execution_count": 39,
   "metadata": {},
   "outputs": [
    {
     "data": {
      "text/html": [
       "<div>\n",
       "<style scoped>\n",
       "    .dataframe tbody tr th:only-of-type {\n",
       "        vertical-align: middle;\n",
       "    }\n",
       "\n",
       "    .dataframe tbody tr th {\n",
       "        vertical-align: top;\n",
       "    }\n",
       "\n",
       "    .dataframe thead th {\n",
       "        text-align: right;\n",
       "    }\n",
       "</style>\n",
       "<table border=\"1\" class=\"dataframe\">\n",
       "  <thead>\n",
       "    <tr style=\"text-align: right;\">\n",
       "      <th></th>\n",
       "      <th>Price</th>\n",
       "      <th>Quantity</th>\n",
       "      <th>Value</th>\n",
       "    </tr>\n",
       "  </thead>\n",
       "  <tbody>\n",
       "    <tr>\n",
       "      <th>0</th>\n",
       "      <td>3616229809</td>\n",
       "      <td>8930040427</td>\n",
       "      <td>8102738282</td>\n",
       "    </tr>\n",
       "    <tr>\n",
       "      <th>1</th>\n",
       "      <td>2320867354</td>\n",
       "      <td>6349981032</td>\n",
       "      <td>6557421433</td>\n",
       "    </tr>\n",
       "    <tr>\n",
       "      <th>2</th>\n",
       "      <td>2115586159</td>\n",
       "      <td>9046235580</td>\n",
       "      <td>4823577475</td>\n",
       "    </tr>\n",
       "    <tr>\n",
       "      <th>3</th>\n",
       "      <td>132286123</td>\n",
       "      <td>791266384</td>\n",
       "      <td>7258419020</td>\n",
       "    </tr>\n",
       "    <tr>\n",
       "      <th>4</th>\n",
       "      <td>1776396842</td>\n",
       "      <td>7465023603</td>\n",
       "      <td>4197821956</td>\n",
       "    </tr>\n",
       "  </tbody>\n",
       "</table>\n",
       "</div>"
      ],
      "text/plain": [
       "        Price    Quantity       Value\n",
       "0  3616229809  8930040427  8102738282\n",
       "1  2320867354  6349981032  6557421433\n",
       "2  2115586159  9046235580  4823577475\n",
       "3   132286123   791266384  7258419020\n",
       "4  1776396842  7465023603  4197821956"
      ]
     },
     "execution_count": 39,
     "metadata": {},
     "output_type": "execute_result"
    }
   ],
   "source": [
    "import numpy as np\n",
    "\n",
    "\n",
    "s1 = np.random.randint(low=10, high=10000000000, size=40).reshape((5, 8))\n",
    "df = pd.DataFrame()\n",
    "df[\"Price\"] = s1[:, 0]\n",
    "df[\"Quantity\"] = s1[:, 1]\n",
    "df[\"Value\"] = s1[:, 2]\n",
    "df.head()\n"
   ]
  },
  {
   "cell_type": "markdown",
   "metadata": {},
   "source": [
    "### Pandas Dataframes function"
   ]
  },
  {
   "cell_type": "code",
   "execution_count": 45,
   "metadata": {},
   "outputs": [
    {
     "name": "stdout",
     "output_type": "stream",
     "text": [
      "Price       1.992273e+09\n",
      "Quantity    6.516509e+09\n",
      "Value       6.187996e+09\n",
      "dtype: float64\n",
      "--------------------------------------\n",
      "Price       2.115586e+09\n",
      "Quantity    7.465024e+09\n",
      "Value       6.557421e+09\n",
      "dtype: float64\n",
      "--------------------------------------\n",
      "Price       3616229809\n",
      "Quantity    9046235580\n",
      "Value       8102738282\n",
      "dtype: int64\n",
      "--------------------------------------\n",
      "Price        132286123\n",
      "Quantity     791266384\n",
      "Value       4197821956\n",
      "dtype: int64\n",
      "--------------------------------------\n"
     ]
    }
   ],
   "source": [
    "# mean, median, max, min\n",
    "mean_df = df.mean()\n",
    "print(mean_df)\n",
    "\n",
    "print('--------------------------------------')\n",
    "\n",
    "median_df = df.median()\n",
    "print(median_df)\n",
    "\n",
    "print('--------------------------------------')\n",
    "\n",
    "max_df = df.max()\n",
    "print(max_df)\n",
    "\n",
    "print('--------------------------------------')\n",
    "\n",
    "min_df = df.min()\n",
    "print(min_df)\n",
    "\n",
    "print('--------------------------------------')"
   ]
  },
  {
   "cell_type": "code",
   "execution_count": null,
   "metadata": {},
   "outputs": [],
   "source": []
  }
 ],
 "metadata": {
  "interpreter": {
   "hash": "929171e077f454687a753267fd921f5e49f37f49284c3656626000c078319f2f"
  },
  "kernelspec": {
   "display_name": "Python ('cs50')",
   "language": "python",
   "name": "python3"
  },
  "language_info": {
   "codemirror_mode": {
    "name": "ipython",
    "version": 3
   },
   "file_extension": ".py",
   "mimetype": "text/x-python",
   "name": "python",
   "nbconvert_exporter": "python",
   "pygments_lexer": "ipython3",
   "version": "3.10.0"
  },
  "orig_nbformat": 4
 },
 "nbformat": 4,
 "nbformat_minor": 2
}
