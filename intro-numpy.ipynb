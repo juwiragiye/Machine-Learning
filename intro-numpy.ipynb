{
 "cells": [
  {
   "cell_type": "code",
   "execution_count": 1,
   "metadata": {},
   "outputs": [],
   "source": [
    "import numpy as np"
   ]
  },
  {
   "cell_type": "markdown",
   "metadata": {},
   "source": [
    "## Numpy Array initialization"
   ]
  },
  {
   "cell_type": "code",
   "execution_count": 12,
   "metadata": {},
   "outputs": [
    {
     "name": "stdout",
     "output_type": "stream",
     "text": [
      "------------------Array of Zeros----------------\n",
      "[[0. 0. 0. 0. 0.]\n",
      " [0. 0. 0. 0. 0.]\n",
      " [0. 0. 0. 0. 0.]\n",
      " [0. 0. 0. 0. 0.]\n",
      " [0. 0. 0. 0. 0.]\n",
      " [0. 0. 0. 0. 0.]]\n",
      "------------------Array of Ones----------------\n",
      "[[1. 1. 1. 1. 1.]\n",
      " [1. 1. 1. 1. 1.]\n",
      " [1. 1. 1. 1. 1.]\n",
      " [1. 1. 1. 1. 1.]\n",
      " [1. 1. 1. 1. 1.]\n",
      " [1. 1. 1. 1. 1.]]\n",
      "------------------Array of fives----------------\n",
      "[[5 5 5 5 5]\n",
      " [5 5 5 5 5]\n",
      " [5 5 5 5 5]\n",
      " [5 5 5 5 5]\n",
      " [5 5 5 5 5]\n",
      " [5 5 5 5 5]]\n",
      "------------------Array of values in range from (0-19) inclusive----------------\n",
      "[ 0  1  2  3  4  5  6  7  8  9 10 11 12 13 14 15 16 17 18 19]\n",
      "------------------Array of random  8 integers from to 10 100----------------\n",
      "[423 214 763 922 664 710 630 860]\n"
     ]
    }
   ],
   "source": [
    "arr1 = np.array([1, 2, 3, 4, 5])\n",
    "arr2 = np.array([[1, 3], [4, 5]])\n",
    "print(f\"array with 1d array {arr1}\")\n",
    "print(f\"array with 2d array {arr2}\")\n",
    "\n",
    "# Array of Zeros\n",
    "zeros = np.zeros((6, 5))\n",
    "print(\"------------------Array of Zeros----------------\")\n",
    "print(zeros)\n",
    "\n",
    "# Array of ones\n",
    "ones = np.ones((6, 5))\n",
    "print(\"------------------Array of Ones----------------\")\n",
    "print(ones)\n",
    "\n",
    "# Array full of same values\n",
    "fives =  np.full((6, 5), 5)\n",
    "print(\"------------------Array of fives----------------\")\n",
    "print(fives)\n",
    "\n",
    "# Array of values in a given range\n",
    "values = np.arange(20) # you can slice with (stop, step, start)\n",
    "print(\"------------------Array of values in range from (0-19) inclusive----------------\")\n",
    "print(values)\n",
    "\n",
    "# Array of random integers\n",
    "random_integers = np.random.randint(10, 1000, 8)\n",
    "print(\"------------------Array of random  8 integers from to 10 100----------------\")\n",
    "print(random_integers)\n"
   ]
  },
  {
   "cell_type": "markdown",
   "metadata": {},
   "source": [
    "## Numpy Array Stacking"
   ]
  },
  {
   "cell_type": "code",
   "execution_count": 19,
   "metadata": {},
   "outputs": [
    {
     "name": "stdout",
     "output_type": "stream",
     "text": [
      "<-----------------Vertically stacked arrays-------------------------------->\n",
      "[[1 3 5]\n",
      " [2 4 6]]\n",
      "<-----------------Horizontally stacked arrays-------------------------------->\n",
      "[1 3 5 2 4 6]\n",
      "<-----------------Arrays stacked in a column---------------------------------------->\n",
      "[[1 2]\n",
      " [3 4]\n",
      " [5 6]]\n"
     ]
    }
   ],
   "source": [
    "# Vstack\n",
    "arr1 = np.array([1, 3, 5])\n",
    "arr2 = np.array([2, 4, 6])\n",
    "vstack_arr = np.vstack((arr1, arr2))\n",
    "print(\"<-----------------Vertically stacked arrays-------------------------------->\")\n",
    "print(vstack_arr)\n",
    "\n",
    "# Hstack\n",
    "arr1 = np.array([1, 3, 5])\n",
    "arr2 = np.array([2, 4, 6])\n",
    "hstack_arr = np.hstack((arr1, arr2))\n",
    "print(\"<-----------------Horizontally stacked arrays-------------------------------->\")\n",
    "print(hstack_arr)\n",
    "\n",
    "# ColumunStack Array\n",
    "arr1 = np.array([1, 3, 5])\n",
    "arr2 = np.array([2, 4, 6])\n",
    "column_arr = np.column_stack((arr1, arr2))\n",
    "print(\"<-----------------Arrays stacked in a column---------------------------------------->\")\n",
    "print(column_arr)\n",
    "\n"
   ]
  },
  {
   "cell_type": "markdown",
   "metadata": {},
   "source": [
    "## Numpy Array  Common Methods"
   ]
  },
  {
   "cell_type": "markdown",
   "metadata": {},
   "source": [
    "### Numpy Array Intersection and Difference"
   ]
  },
  {
   "cell_type": "code",
   "execution_count": 50,
   "metadata": {},
   "outputs": [
    {
     "name": "stdout",
     "output_type": "stream",
     "text": [
      "<--------------------------------Array of numbers that are in both arr1 and arr2\n",
      "[ 1 16 31 46]\n",
      "<--------------------------------Array of numbers that are only present in any of the two arrays\n",
      "[ 4  7 10 13 19 22 25 28 34 37 40 43 49 52]\n"
     ]
    }
   ],
   "source": [
    "# Numbers that are common in two array\n",
    "arr1 = np.arange(1, 54, 3)\n",
    "arr2 = np.arange(1, 90, 5)\n",
    "\n",
    "intersect_arr = np.intersect1d(ar1=arr1, ar2=arr2)\n",
    "\n",
    "print(\"<--------------------------------Array of numbers that are in both arr1 and arr2\")\n",
    "print(intersect_arr)\n",
    "\n",
    "# Numbers that are unique in both arrays\n",
    "set_arr = np.setdiff1d(ar1=arr1, ar2=arr2)\n",
    "print(\"<--------------------------------Array of numbers that are only present in any of the two arrays\")\n",
    "print(set_arr)\n",
    "\n",
    "\n",
    "\n"
   ]
  },
  {
   "cell_type": "markdown",
   "metadata": {},
   "source": [
    "### Numpy Array Math Methods"
   ]
  },
  {
   "cell_type": "code",
   "execution_count": 55,
   "metadata": {},
   "outputs": [
    {
     "name": "stdout",
     "output_type": "stream",
     "text": [
      "[  2  10  18  26  34  42  50  58  66  74  82  90  98 106 114 122 130 138]\n",
      "[477 783]\n",
      "28017\n",
      "[1.         0.66666667 0.63636364 0.625      0.61904762 0.61538462\n",
      " 0.61290323 0.61111111 0.6097561  0.60869565 0.60784314 0.60714286\n",
      " 0.60655738 0.60606061 0.6056338  0.60526316 0.60493827 0.60465116]\n",
      "(array([1, 0, 0, 0, 0, 0, 0, 0, 0, 0, 0, 0, 0, 0, 0, 0, 0, 0]), array([ 0,  4,  7, 10, 13, 16, 19, 22, 25, 28, 31, 34, 37, 40, 43, 46, 49,\n",
      "       52]))\n",
      "23.5\n",
      "16.77050983124842\n",
      "46\n",
      "1\n"
     ]
    }
   ],
   "source": [
    "# Adding numbers row wise\n",
    "sum_arr = np.sum((arr1, arr2), axis=0)\n",
    "print(sum_arr)\n",
    "\n",
    "# Adding numbers column wise\n",
    "sum_arr = np.sum((arr1, arr2), axis=1)\n",
    "print(sum_arr)\n",
    "\n",
    "# Dot product of two arrays\n",
    "dot_arr = np.dot(arr1, arr2)\n",
    "print(dot_arr)\n",
    "\n",
    "# Array division\n",
    "average_arr = np.divide(arr1, arr2)\n",
    "print(average_arr)\n",
    "\n",
    "# Div mod array \n",
    "divmod_arr = np.divmod(arr1, arr2)\n",
    "print(divmod_arr)\n",
    "\n",
    "# Mean value\n",
    "mean_value = np.mean(intersect_arr)\n",
    "print(mean_value)\n",
    "\n",
    "# Standard deviation\n",
    "std_value = np.std(intersect_arr)\n",
    "print(std_value)\n",
    "\n",
    "# max, min\n",
    "max_value = np.max(intersect_arr)\n",
    "min_value = np.min(intersect_arr)\n",
    "print(max_value)\n",
    "print(min_value)\n",
    "\n",
    "\n",
    "\n"
   ]
  },
  {
   "cell_type": "markdown",
   "metadata": {},
   "source": [
    "### Numpy Array Saving and Loading"
   ]
  },
  {
   "cell_type": "code",
   "execution_count": 59,
   "metadata": {},
   "outputs": [
    {
     "name": "stdout",
     "output_type": "stream",
     "text": [
      "[ 0  1  2  3  4  5  6  7  8  9 10 11 12 13 14 15 16 17 18 19 20 21 22 23\n",
      " 24 25 26 27 28 29 30 31 32 33 34 35 36 37 38 39 40 41 42 43 44 45 46 47\n",
      " 48 49 50 51 52 53 54 55 56 57 58 59 60 61 62 63 64 65 66 67 68 69 70 71\n",
      " 72 73 74 75 76 77 78 79 80 81 82 83 84 85 86 87 88 89 90 91 92 93 94 95\n",
      " 96 97 98 99]\n",
      "[ 0  1  2  3  4  5  6  7  8  9 10 11 12 13 14 15 16 17 18 19 20 21 22 23\n",
      " 24 25 26 27 28 29 30 31 32 33 34 35 36 37 38 39 40 41 42 43 44 45 46 47\n",
      " 48 49 50 51 52 53 54 55 56 57 58 59 60 61 62 63 64 65 66 67 68 69 70 71\n",
      " 72 73 74 75 76 77 78 79 80 81 82 83 84 85 86 87 88 89 90 91 92 93 94 95\n",
      " 96 97 98 99]\n"
     ]
    }
   ],
   "source": [
    "# Saving\n",
    "arr = np.arange(100)\n",
    "np.save('my_arr', arr)\n",
    "print(arr)\n",
    "\n",
    "# Loading a Numpy array\n",
    "arr2 = np.load('my_arr.npy')\n",
    "print(arr2)\n"
   ]
  },
  {
   "cell_type": "code",
   "execution_count": null,
   "metadata": {},
   "outputs": [],
   "source": []
  }
 ],
 "metadata": {
  "interpreter": {
   "hash": "37a2c457dd1039ab6a618c058799f89785b579096d3cd4de1b5b4d737ff9e401"
  },
  "kernelspec": {
   "display_name": "cmu-dl",
   "language": "python",
   "name": "cmu-dl"
  },
  "language_info": {
   "codemirror_mode": {
    "name": "ipython",
    "version": 3
   },
   "file_extension": ".py",
   "mimetype": "text/x-python",
   "name": "python",
   "nbconvert_exporter": "python",
   "pygments_lexer": "ipython3",
   "version": "3.10.4"
  },
  "orig_nbformat": 4
 },
 "nbformat": 4,
 "nbformat_minor": 2
}
